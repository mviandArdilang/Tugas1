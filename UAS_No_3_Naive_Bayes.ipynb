{
  "nbformat": 4,
  "nbformat_minor": 0,
  "metadata": {
    "colab": {
      "name": "UAS No 3 Naive Bayes.ipynb",
      "provenance": [],
      "authorship_tag": "ABX9TyO+hcaoga+06ypfDWG2/HlC",
      "include_colab_link": true
    },
    "kernelspec": {
      "name": "python3",
      "display_name": "Python 3"
    }
  },
  "cells": [
    {
      "cell_type": "markdown",
      "metadata": {
        "id": "view-in-github",
        "colab_type": "text"
      },
      "source": [
        "<a href=\"https://colab.research.google.com/github/yosepprianto/Machine-Learning/blob/main/UAS_No_3_Naive_Bayes.ipynb\" target=\"_parent\"><img src=\"https://colab.research.google.com/assets/colab-badge.svg\" alt=\"Open In Colab\"/></a>"
      ]
    },
    {
      "cell_type": "code",
      "metadata": {
        "id": "X1xN9d2mR6pd"
      },
      "source": [
        "#Dataset\r\n",
        "\r\n",
        "JenisKelamin=['Laki-Laki','Laki-Laki','Perempuan','Perempuan','Laki-Laki','Laki-Laki','Perempuan','Perempuan','Laki-Laki','Perempuan']\r\n",
        "BiayaPerjalanan=['Murah','Murah','Murah','Murah','Murah','Standar','Standar','Mahal','Mahal','Mahal']\r\n",
        "IncomeLevel=['Rendah','Sedang','Sedang','Rendah','Sedang','Sedang','Sedang','Tinggi','Sedang','Tinggi']\r\n",
        "ModelTransportasi=['Bus','Bus','Kereta Api','Bus','Bus','Kereta Api','Kereta Api','Mobil','Mobil','Mobil']\r\n",
        "Tujuan=['No','Yes','Yes','No','Yes','No','Yes','Yes','No','No']"
      ],
      "execution_count": 1,
      "outputs": []
    },
    {
      "cell_type": "code",
      "metadata": {
        "colab": {
          "base_uri": "https://localhost:8080/"
        },
        "id": "7LR_GvMPSUqK",
        "outputId": "836e42b7-d786-474e-ebb9-f744ab1b6ae2"
      },
      "source": [
        "from sklearn import preprocessing\r\n",
        "label = preprocessing.LabelEncoder()\r\n",
        "JenisKelamin_encoded=label.fit_transform(JenisKelamin)#untuk nilai 0 adalah Laki-Laki,untuk niali 1 adalah perempuan\r\n",
        "BiayaPerjalanan_encoded=label.fit_transform(BiayaPerjalanan)#untuk nilai 0 adalah Mahal,Untuk niali 1 adalah Murah,untuk nilai 2 adalah Standar\r\n",
        "IncomeLevel_encoded=label.fit_transform(IncomeLevel)#untuk nilai 0 adalah Rendah,Untuk nilai 1 adalah Sedang, Untuk nilai 2 adalah Tinggi\r\n",
        "ModelTransportasi_encoded=label.fit_transform(ModelTransportasi)#Untuk nilai 0 adalah Bus ,Untuk nilai 1 Adalah Kereta Api, untuk niali 2 adalah Mobil\r\n",
        "Tujuan_encoded=label.fit_transform(Tujuan)#Untuk nilai 0 Adalah No,Untuk nilai 1 adalah Yes\r\n",
        "print(JenisKelamin_encoded)\r\n",
        "print(BiayaPerjalanan_encoded)\r\n",
        "print(IncomeLevel_encoded)\r\n",
        "print(ModelTransportasi_encoded)\r\n",
        "print(Tujuan_encoded)"
      ],
      "execution_count": 2,
      "outputs": [
        {
          "output_type": "stream",
          "text": [
            "[0 0 1 1 0 0 1 1 0 1]\n",
            "[1 1 1 1 1 2 2 0 0 0]\n",
            "[0 1 1 0 1 1 1 2 1 2]\n",
            "[0 0 1 0 0 1 1 2 2 2]\n",
            "[0 1 1 0 1 0 1 1 0 0]\n"
          ],
          "name": "stdout"
        }
      ]
    },
    {
      "cell_type": "code",
      "metadata": {
        "colab": {
          "base_uri": "https://localhost:8080/"
        },
        "id": "HYnjEDjCSYsT",
        "outputId": "024d3c25-c757-4d8f-8a8e-b1662574018a"
      },
      "source": [
        "print(\"Jenis Kelamin            :\",JenisKelamin_encoded)\r\n",
        "print(\"Biaya Perjalanan(Rp)/km  :\",BiayaPerjalanan_encoded)\r\n",
        "print(\"Income Level             :\",IncomeLevel_encoded)\r\n",
        "print(\"ModelTransportasi        :\",ModelTransportasi_encoded)\r\n",
        "print(\"Tujuan                   :\",Tujuan_encoded)#class"
      ],
      "execution_count": 3,
      "outputs": [
        {
          "output_type": "stream",
          "text": [
            "Jenis Kelamin            : [0 0 1 1 0 0 1 1 0 1]\n",
            "Biaya Perjalanan(Rp)/km  : [1 1 1 1 1 2 2 0 0 0]\n",
            "Income Level             : [0 1 1 0 1 1 1 2 1 2]\n",
            "ModelTransportasi        : [0 0 1 0 0 1 1 2 2 2]\n",
            "Tujuan                   : [0 1 1 0 1 0 1 1 0 0]\n"
          ],
          "name": "stdout"
        }
      ]
    },
    {
      "cell_type": "code",
      "metadata": {
        "colab": {
          "base_uri": "https://localhost:8080/"
        },
        "id": "WyR_9fdISdOQ",
        "outputId": "83181baa-d07a-4349-db9a-a4bcb3a48a8d"
      },
      "source": [
        "features=zip(JenisKelamin_encoded,BiayaPerjalanan_encoded,IncomeLevel_encoded,ModelTransportasi_encoded)\r\n",
        "features=list(features)\r\n",
        "print (tuple(features))"
      ],
      "execution_count": 4,
      "outputs": [
        {
          "output_type": "stream",
          "text": [
            "((0, 1, 0, 0), (0, 1, 1, 0), (1, 1, 1, 1), (1, 1, 0, 0), (0, 1, 1, 0), (0, 2, 1, 1), (1, 2, 1, 1), (1, 0, 2, 2), (0, 0, 1, 2), (1, 0, 2, 2))\n"
          ],
          "name": "stdout"
        }
      ]
    },
    {
      "cell_type": "code",
      "metadata": {
        "colab": {
          "base_uri": "https://localhost:8080/"
        },
        "id": "qWhhmO61SgrY",
        "outputId": "0df9bc83-f7f7-42df-fcf7-4697f9854ec7"
      },
      "source": [
        "from sklearn.naive_bayes import GaussianNB\r\n",
        "model = GaussianNB()\r\n",
        "model.fit(features,Tujuan)\r\n",
        "predicted= model.predict([[1,2,0,0]])\r\n",
        "#untuk nilai 0 adalah Laki-Laki,untuk niali 1 adalah perempuan\r\n",
        "#untuk nilai 0 adalah Mahal,Untuk niali 1 adalah Murah,untuk nilai 2 adalah Standar\r\n",
        "#untuk nilai 0 adalah Rendah,Untuk nilai 1 adalah Sedang, Untuk nilai 2 adalah Tinggi\r\n",
        "#Untuk nilai 0 adalah Bus ,Untuk nilai 1 Adalah Kereta Api, untuk niali 2 adalah Mobil\r\n",
        "#Untuk nilai 0 Adalah No,Untuk nilai 1 adalah Yes\r\n",
        "print(\"Hasil Prediksi:\",predicted)"
      ],
      "execution_count": 6,
      "outputs": [
        {
          "output_type": "stream",
          "text": [
            "Hasil Prediksi: ['No']\n"
          ],
          "name": "stdout"
        }
      ]
    }
  ]
}