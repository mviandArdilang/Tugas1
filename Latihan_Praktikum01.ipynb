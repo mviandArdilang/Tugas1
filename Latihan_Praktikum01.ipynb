{
  "nbformat": 4,
  "nbformat_minor": 0,
  "metadata": {
    "colab": {
      "name": "Latihan-Praktikum01.ipynb",
      "provenance": [],
      "collapsed_sections": [],
      "authorship_tag": "ABX9TyPhGIfER9T8siFS6w8UwcQ+",
      "include_colab_link": true
    },
    "kernelspec": {
      "name": "python3",
      "display_name": "Python 3"
    }
  },
  "cells": [
    {
      "cell_type": "markdown",
      "metadata": {
        "id": "view-in-github",
        "colab_type": "text"
      },
      "source": [
        "<a href=\"https://colab.research.google.com/github/yosepprianto/Machine-Learning/blob/main/Latihan_Praktikum01.ipynb\" target=\"_parent\"><img src=\"https://colab.research.google.com/assets/colab-badge.svg\" alt=\"Open In Colab\"/></a>"
      ]
    },
    {
      "cell_type": "code",
      "metadata": {
        "id": "nR6P7cJOxnUV",
        "outputId": "32d54909-d539-48c4-edc5-311eca7b9c0d",
        "colab": {
          "base_uri": "https://localhost:8080/",
          "height": 131
        }
      },
      "source": [
        "pip install pandas"
      ],
      "execution_count": null,
      "outputs": [
        {
          "output_type": "stream",
          "text": [
            "Requirement already satisfied: pandas in /usr/local/lib/python3.6/dist-packages (1.1.2)\n",
            "Requirement already satisfied: numpy>=1.15.4 in /usr/local/lib/python3.6/dist-packages (from pandas) (1.18.5)\n",
            "Requirement already satisfied: pytz>=2017.2 in /usr/local/lib/python3.6/dist-packages (from pandas) (2018.9)\n",
            "Requirement already satisfied: python-dateutil>=2.7.3 in /usr/local/lib/python3.6/dist-packages (from pandas) (2.8.1)\n",
            "Requirement already satisfied: six>=1.5 in /usr/local/lib/python3.6/dist-packages (from python-dateutil>=2.7.3->pandas) (1.15.0)\n"
          ],
          "name": "stdout"
        }
      ]
    },
    {
      "cell_type": "code",
      "metadata": {
        "id": "MG6znqtA0lSQ",
        "outputId": "9345d1f4-f76c-4831-efde-3050c834a8a9",
        "colab": {
          "base_uri": "https://localhost:8080/",
          "height": 1000
        }
      },
      "source": [
        "import pandas as pd\n",
        "dataset=pd.read_csv(\"/content/drive/My Drive/Machine Learning/dataset/Persentase Perokok RI.csv\")\n",
        "dataset"
      ],
      "execution_count": null,
      "outputs": [
        {
          "output_type": "execute_result",
          "data": {
            "text/html": [
              "<div>\n",
              "<style scoped>\n",
              "    .dataframe tbody tr th:only-of-type {\n",
              "        vertical-align: middle;\n",
              "    }\n",
              "\n",
              "    .dataframe tbody tr th {\n",
              "        vertical-align: top;\n",
              "    }\n",
              "\n",
              "    .dataframe thead th {\n",
              "        text-align: right;\n",
              "    }\n",
              "</style>\n",
              "<table border=\"1\" class=\"dataframe\">\n",
              "  <thead>\n",
              "    <tr style=\"text-align: right;\">\n",
              "      <th></th>\n",
              "      <th>Provinsi</th>\n",
              "      <th>2015</th>\n",
              "      <th>2016</th>\n",
              "    </tr>\n",
              "  </thead>\n",
              "  <tbody>\n",
              "    <tr>\n",
              "      <th>0</th>\n",
              "      <td>ACEH</td>\n",
              "      <td>29.82</td>\n",
              "      <td>28.16</td>\n",
              "    </tr>\n",
              "    <tr>\n",
              "      <th>1</th>\n",
              "      <td>SUMATERA UTARA</td>\n",
              "      <td>29.15</td>\n",
              "      <td>27.88</td>\n",
              "    </tr>\n",
              "    <tr>\n",
              "      <th>2</th>\n",
              "      <td>SUMATERA BARAT</td>\n",
              "      <td>32.41</td>\n",
              "      <td>30.59</td>\n",
              "    </tr>\n",
              "    <tr>\n",
              "      <th>3</th>\n",
              "      <td>RIAU</td>\n",
              "      <td>31.21</td>\n",
              "      <td>29.61</td>\n",
              "    </tr>\n",
              "    <tr>\n",
              "      <th>4</th>\n",
              "      <td>JAMBI</td>\n",
              "      <td>30.82</td>\n",
              "      <td>29.18</td>\n",
              "    </tr>\n",
              "    <tr>\n",
              "      <th>5</th>\n",
              "      <td>SUMATERA SELATAN</td>\n",
              "      <td>33.13</td>\n",
              "      <td>31.57</td>\n",
              "    </tr>\n",
              "    <tr>\n",
              "      <th>6</th>\n",
              "      <td>BENGKULU</td>\n",
              "      <td>33.68</td>\n",
              "      <td>33.15</td>\n",
              "    </tr>\n",
              "    <tr>\n",
              "      <th>7</th>\n",
              "      <td>LAMPUNG</td>\n",
              "      <td>34.12</td>\n",
              "      <td>33.39</td>\n",
              "    </tr>\n",
              "    <tr>\n",
              "      <th>8</th>\n",
              "      <td>KEP. BANGKA BELITUNG</td>\n",
              "      <td>30.70</td>\n",
              "      <td>29.32</td>\n",
              "    </tr>\n",
              "    <tr>\n",
              "      <th>9</th>\n",
              "      <td>KEP. RIAU</td>\n",
              "      <td>29.18</td>\n",
              "      <td>29.25</td>\n",
              "    </tr>\n",
              "    <tr>\n",
              "      <th>10</th>\n",
              "      <td>DKI JAKARTA</td>\n",
              "      <td>27.31</td>\n",
              "      <td>26.42</td>\n",
              "    </tr>\n",
              "    <tr>\n",
              "      <th>11</th>\n",
              "      <td>JAWA BARAT</td>\n",
              "      <td>33.82</td>\n",
              "      <td>32.67</td>\n",
              "    </tr>\n",
              "    <tr>\n",
              "      <th>12</th>\n",
              "      <td>JAWA TENGAH</td>\n",
              "      <td>28.57</td>\n",
              "      <td>27.19</td>\n",
              "    </tr>\n",
              "    <tr>\n",
              "      <th>13</th>\n",
              "      <td>DI YOGYAKARTA</td>\n",
              "      <td>24.12</td>\n",
              "      <td>23.11</td>\n",
              "    </tr>\n",
              "    <tr>\n",
              "      <th>14</th>\n",
              "      <td>JAWA TIMUR</td>\n",
              "      <td>29.03</td>\n",
              "      <td>28.16</td>\n",
              "    </tr>\n",
              "    <tr>\n",
              "      <th>15</th>\n",
              "      <td>BANTEN</td>\n",
              "      <td>32.95</td>\n",
              "      <td>31.64</td>\n",
              "    </tr>\n",
              "    <tr>\n",
              "      <th>16</th>\n",
              "      <td>BALI</td>\n",
              "      <td>22.96</td>\n",
              "      <td>21.62</td>\n",
              "    </tr>\n",
              "    <tr>\n",
              "      <th>17</th>\n",
              "      <td>NUSA TENGGARA BARAT</td>\n",
              "      <td>31.60</td>\n",
              "      <td>30.88</td>\n",
              "    </tr>\n",
              "    <tr>\n",
              "      <th>18</th>\n",
              "      <td>NUSA TENGGARA TIMUR</td>\n",
              "      <td>25.47</td>\n",
              "      <td>24.91</td>\n",
              "    </tr>\n",
              "    <tr>\n",
              "      <th>19</th>\n",
              "      <td>KALIMANTAN BARAT</td>\n",
              "      <td>29.35</td>\n",
              "      <td>28.09</td>\n",
              "    </tr>\n",
              "    <tr>\n",
              "      <th>20</th>\n",
              "      <td>KALIMANTAN TENGAH</td>\n",
              "      <td>30.53</td>\n",
              "      <td>29.21</td>\n",
              "    </tr>\n",
              "    <tr>\n",
              "      <th>21</th>\n",
              "      <td>KALIMANTAN SELATAN</td>\n",
              "      <td>25.76</td>\n",
              "      <td>25.34</td>\n",
              "    </tr>\n",
              "    <tr>\n",
              "      <th>22</th>\n",
              "      <td>KALIMANTAN TIMUR</td>\n",
              "      <td>25.59</td>\n",
              "      <td>25.23</td>\n",
              "    </tr>\n",
              "    <tr>\n",
              "      <th>23</th>\n",
              "      <td>KALIMANTAN UTARA</td>\n",
              "      <td>28.61</td>\n",
              "      <td>28.38</td>\n",
              "    </tr>\n",
              "    <tr>\n",
              "      <th>24</th>\n",
              "      <td>SULAWESI UTARA</td>\n",
              "      <td>29.31</td>\n",
              "      <td>29.23</td>\n",
              "    </tr>\n",
              "    <tr>\n",
              "      <th>25</th>\n",
              "      <td>SULAWESI TENGAH</td>\n",
              "      <td>32.56</td>\n",
              "      <td>31.88</td>\n",
              "    </tr>\n",
              "    <tr>\n",
              "      <th>26</th>\n",
              "      <td>SULAWESI SELATAN</td>\n",
              "      <td>25.49</td>\n",
              "      <td>25.13</td>\n",
              "    </tr>\n",
              "    <tr>\n",
              "      <th>27</th>\n",
              "      <td>SULAWESI TENGGARA</td>\n",
              "      <td>28.49</td>\n",
              "      <td>27.60</td>\n",
              "    </tr>\n",
              "    <tr>\n",
              "      <th>28</th>\n",
              "      <td>GORONTALO</td>\n",
              "      <td>33.93</td>\n",
              "      <td>31.71</td>\n",
              "    </tr>\n",
              "    <tr>\n",
              "      <th>29</th>\n",
              "      <td>SULAWESI BARAT</td>\n",
              "      <td>28.29</td>\n",
              "      <td>27.36</td>\n",
              "    </tr>\n",
              "    <tr>\n",
              "      <th>30</th>\n",
              "      <td>MALUKU</td>\n",
              "      <td>27.19</td>\n",
              "      <td>25.68</td>\n",
              "    </tr>\n",
              "    <tr>\n",
              "      <th>31</th>\n",
              "      <td>MALUKU UTARA</td>\n",
              "      <td>31.14</td>\n",
              "      <td>30.23</td>\n",
              "    </tr>\n",
              "    <tr>\n",
              "      <th>32</th>\n",
              "      <td>PAPUA BARAT</td>\n",
              "      <td>29.28</td>\n",
              "      <td>26.18</td>\n",
              "    </tr>\n",
              "    <tr>\n",
              "      <th>33</th>\n",
              "      <td>PAPUA</td>\n",
              "      <td>26.67</td>\n",
              "      <td>24.04</td>\n",
              "    </tr>\n",
              "  </tbody>\n",
              "</table>\n",
              "</div>"
            ],
            "text/plain": [
              "                Provinsi   2015   2016\n",
              "0                   ACEH  29.82  28.16\n",
              "1         SUMATERA UTARA  29.15  27.88\n",
              "2         SUMATERA BARAT  32.41  30.59\n",
              "3                   RIAU  31.21  29.61\n",
              "4                  JAMBI  30.82  29.18\n",
              "5       SUMATERA SELATAN  33.13  31.57\n",
              "6               BENGKULU  33.68  33.15\n",
              "7                LAMPUNG  34.12  33.39\n",
              "8   KEP. BANGKA BELITUNG  30.70  29.32\n",
              "9              KEP. RIAU  29.18  29.25\n",
              "10           DKI JAKARTA  27.31  26.42\n",
              "11            JAWA BARAT  33.82  32.67\n",
              "12           JAWA TENGAH  28.57  27.19\n",
              "13         DI YOGYAKARTA  24.12  23.11\n",
              "14            JAWA TIMUR  29.03  28.16\n",
              "15                BANTEN  32.95  31.64\n",
              "16                  BALI  22.96  21.62\n",
              "17   NUSA TENGGARA BARAT  31.60  30.88\n",
              "18   NUSA TENGGARA TIMUR  25.47  24.91\n",
              "19      KALIMANTAN BARAT  29.35  28.09\n",
              "20     KALIMANTAN TENGAH  30.53  29.21\n",
              "21    KALIMANTAN SELATAN  25.76  25.34\n",
              "22      KALIMANTAN TIMUR  25.59  25.23\n",
              "23      KALIMANTAN UTARA  28.61  28.38\n",
              "24        SULAWESI UTARA  29.31  29.23\n",
              "25       SULAWESI TENGAH  32.56  31.88\n",
              "26      SULAWESI SELATAN  25.49  25.13\n",
              "27     SULAWESI TENGGARA  28.49  27.60\n",
              "28             GORONTALO  33.93  31.71\n",
              "29        SULAWESI BARAT  28.29  27.36\n",
              "30                MALUKU  27.19  25.68\n",
              "31          MALUKU UTARA  31.14  30.23\n",
              "32           PAPUA BARAT  29.28  26.18\n",
              "33                 PAPUA  26.67  24.04"
            ]
          },
          "metadata": {
            "tags": []
          },
          "execution_count": 20
        }
      ]
    },
    {
      "cell_type": "code",
      "metadata": {
        "id": "brwiEqG9JrlO",
        "outputId": "fffc1866-b99a-4505-a241-13d17766cf76",
        "colab": {
          "base_uri": "https://localhost:8080/",
          "height": 206
        }
      },
      "source": [
        "dataset.head()"
      ],
      "execution_count": null,
      "outputs": [
        {
          "output_type": "execute_result",
          "data": {
            "text/html": [
              "<div>\n",
              "<style scoped>\n",
              "    .dataframe tbody tr th:only-of-type {\n",
              "        vertical-align: middle;\n",
              "    }\n",
              "\n",
              "    .dataframe tbody tr th {\n",
              "        vertical-align: top;\n",
              "    }\n",
              "\n",
              "    .dataframe thead th {\n",
              "        text-align: right;\n",
              "    }\n",
              "</style>\n",
              "<table border=\"1\" class=\"dataframe\">\n",
              "  <thead>\n",
              "    <tr style=\"text-align: right;\">\n",
              "      <th></th>\n",
              "      <th>Provinsi</th>\n",
              "      <th>2015</th>\n",
              "      <th>2016</th>\n",
              "    </tr>\n",
              "  </thead>\n",
              "  <tbody>\n",
              "    <tr>\n",
              "      <th>0</th>\n",
              "      <td>ACEH</td>\n",
              "      <td>29.82</td>\n",
              "      <td>28.16</td>\n",
              "    </tr>\n",
              "    <tr>\n",
              "      <th>1</th>\n",
              "      <td>SUMATERA UTARA</td>\n",
              "      <td>29.15</td>\n",
              "      <td>27.88</td>\n",
              "    </tr>\n",
              "    <tr>\n",
              "      <th>2</th>\n",
              "      <td>SUMATERA BARAT</td>\n",
              "      <td>32.41</td>\n",
              "      <td>30.59</td>\n",
              "    </tr>\n",
              "    <tr>\n",
              "      <th>3</th>\n",
              "      <td>RIAU</td>\n",
              "      <td>31.21</td>\n",
              "      <td>29.61</td>\n",
              "    </tr>\n",
              "    <tr>\n",
              "      <th>4</th>\n",
              "      <td>JAMBI</td>\n",
              "      <td>30.82</td>\n",
              "      <td>29.18</td>\n",
              "    </tr>\n",
              "  </tbody>\n",
              "</table>\n",
              "</div>"
            ],
            "text/plain": [
              "         Provinsi   2015   2016\n",
              "0            ACEH  29.82  28.16\n",
              "1  SUMATERA UTARA  29.15  27.88\n",
              "2  SUMATERA BARAT  32.41  30.59\n",
              "3            RIAU  31.21  29.61\n",
              "4           JAMBI  30.82  29.18"
            ]
          },
          "metadata": {
            "tags": []
          },
          "execution_count": 21
        }
      ]
    },
    {
      "cell_type": "code",
      "metadata": {
        "id": "Vc5T6htCJ3Bw",
        "outputId": "3f7e1803-bba4-496a-edde-324cd0930cf1",
        "colab": {
          "base_uri": "https://localhost:8080/",
          "height": 36
        }
      },
      "source": [
        "dataset.shape"
      ],
      "execution_count": null,
      "outputs": [
        {
          "output_type": "execute_result",
          "data": {
            "text/plain": [
              "(34, 3)"
            ]
          },
          "metadata": {
            "tags": []
          },
          "execution_count": 22
        }
      ]
    },
    {
      "cell_type": "code",
      "metadata": {
        "id": "DwKuoYFaKFV4",
        "outputId": "2f014fa2-4c93-47b4-8aa7-1fc507a0ec6f",
        "colab": {
          "base_uri": "https://localhost:8080/",
          "height": 92
        }
      },
      "source": [
        "dataset.isnull().sum()"
      ],
      "execution_count": null,
      "outputs": [
        {
          "output_type": "execute_result",
          "data": {
            "text/plain": [
              "Provinsi    0\n",
              "2015        0\n",
              "2016        0\n",
              "dtype: int64"
            ]
          },
          "metadata": {
            "tags": []
          },
          "execution_count": 23
        }
      ]
    },
    {
      "cell_type": "code",
      "metadata": {
        "id": "RCT_tMj9K6Oi",
        "outputId": "a2ea38ce-181c-4860-fa8c-2ff972c262fa",
        "colab": {
          "base_uri": "https://localhost:8080/",
          "height": 92
        }
      },
      "source": [
        "dataset.max()"
      ],
      "execution_count": null,
      "outputs": [
        {
          "output_type": "execute_result",
          "data": {
            "text/plain": [
              "Provinsi    SUMATERA UTARA\n",
              "2015                 34.12\n",
              "2016                 33.39\n",
              "dtype: object"
            ]
          },
          "metadata": {
            "tags": []
          },
          "execution_count": 24
        }
      ]
    },
    {
      "cell_type": "code",
      "metadata": {
        "id": "-qneFVtILCfj",
        "outputId": "16ef53dd-23bb-4ad9-ecf9-3f41a993ef3f",
        "colab": {
          "base_uri": "https://localhost:8080/",
          "height": 92
        }
      },
      "source": [
        "dataset.min()"
      ],
      "execution_count": null,
      "outputs": [
        {
          "output_type": "execute_result",
          "data": {
            "text/plain": [
              "Provinsi     ACEH\n",
              "2015        22.96\n",
              "2016        21.62\n",
              "dtype: object"
            ]
          },
          "metadata": {
            "tags": []
          },
          "execution_count": 25
        }
      ]
    },
    {
      "cell_type": "code",
      "metadata": {
        "id": "3856X6IALP2l",
        "outputId": "6c3a3e2e-abc9-4511-ec69-690aaf60c0c9",
        "colab": {
          "base_uri": "https://localhost:8080/",
          "height": 300
        }
      },
      "source": [
        "dataset.describe()"
      ],
      "execution_count": null,
      "outputs": [
        {
          "output_type": "execute_result",
          "data": {
            "text/html": [
              "<div>\n",
              "<style scoped>\n",
              "    .dataframe tbody tr th:only-of-type {\n",
              "        vertical-align: middle;\n",
              "    }\n",
              "\n",
              "    .dataframe tbody tr th {\n",
              "        vertical-align: top;\n",
              "    }\n",
              "\n",
              "    .dataframe thead th {\n",
              "        text-align: right;\n",
              "    }\n",
              "</style>\n",
              "<table border=\"1\" class=\"dataframe\">\n",
              "  <thead>\n",
              "    <tr style=\"text-align: right;\">\n",
              "      <th></th>\n",
              "      <th>2015</th>\n",
              "      <th>2016</th>\n",
              "    </tr>\n",
              "  </thead>\n",
              "  <tbody>\n",
              "    <tr>\n",
              "      <th>count</th>\n",
              "      <td>34.000000</td>\n",
              "      <td>34.000000</td>\n",
              "    </tr>\n",
              "    <tr>\n",
              "      <th>mean</th>\n",
              "      <td>29.477647</td>\n",
              "      <td>28.352647</td>\n",
              "    </tr>\n",
              "    <tr>\n",
              "      <th>std</th>\n",
              "      <td>2.967069</td>\n",
              "      <td>2.931938</td>\n",
              "    </tr>\n",
              "    <tr>\n",
              "      <th>min</th>\n",
              "      <td>22.960000</td>\n",
              "      <td>21.620000</td>\n",
              "    </tr>\n",
              "    <tr>\n",
              "      <th>25%</th>\n",
              "      <td>27.555000</td>\n",
              "      <td>26.240000</td>\n",
              "    </tr>\n",
              "    <tr>\n",
              "      <th>50%</th>\n",
              "      <td>29.295000</td>\n",
              "      <td>28.270000</td>\n",
              "    </tr>\n",
              "    <tr>\n",
              "      <th>75%</th>\n",
              "      <td>31.502500</td>\n",
              "      <td>30.500000</td>\n",
              "    </tr>\n",
              "    <tr>\n",
              "      <th>max</th>\n",
              "      <td>34.120000</td>\n",
              "      <td>33.390000</td>\n",
              "    </tr>\n",
              "  </tbody>\n",
              "</table>\n",
              "</div>"
            ],
            "text/plain": [
              "            2015       2016\n",
              "count  34.000000  34.000000\n",
              "mean   29.477647  28.352647\n",
              "std     2.967069   2.931938\n",
              "min    22.960000  21.620000\n",
              "25%    27.555000  26.240000\n",
              "50%    29.295000  28.270000\n",
              "75%    31.502500  30.500000\n",
              "max    34.120000  33.390000"
            ]
          },
          "metadata": {
            "tags": []
          },
          "execution_count": 26
        }
      ]
    },
    {
      "cell_type": "code",
      "metadata": {
        "id": "3ffGS57MLfCN",
        "outputId": "4cd1581d-daf8-4ba9-d428-c860f7591955",
        "colab": {
          "base_uri": "https://localhost:8080/",
          "height": 36
        }
      },
      "source": [
        "dataset.describe().loc['max','2015']"
      ],
      "execution_count": null,
      "outputs": [
        {
          "output_type": "execute_result",
          "data": {
            "text/plain": [
              "34.12"
            ]
          },
          "metadata": {
            "tags": []
          },
          "execution_count": 27
        }
      ]
    },
    {
      "cell_type": "code",
      "metadata": {
        "id": "FKpY7wpDLzYW",
        "outputId": "7dcf664c-aa0d-4787-b4ea-5ad095d61bfa",
        "colab": {
          "base_uri": "https://localhost:8080/",
          "height": 36
        }
      },
      "source": [
        "dataset.describe()['2016']['max']"
      ],
      "execution_count": null,
      "outputs": [
        {
          "output_type": "execute_result",
          "data": {
            "text/plain": [
              "33.39"
            ]
          },
          "metadata": {
            "tags": []
          },
          "execution_count": 28
        }
      ]
    },
    {
      "cell_type": "code",
      "metadata": {
        "id": "RITKINjOMCON"
      },
      "source": [
        "data=dataset.dropna()"
      ],
      "execution_count": null,
      "outputs": []
    },
    {
      "cell_type": "code",
      "metadata": {
        "id": "8KUpY6KxMJBQ",
        "outputId": "955c1bf0-5309-40db-ff51-ec56830b1e32",
        "colab": {
          "base_uri": "https://localhost:8080/",
          "height": 36
        }
      },
      "source": [
        "data.shape"
      ],
      "execution_count": null,
      "outputs": [
        {
          "output_type": "execute_result",
          "data": {
            "text/plain": [
              "(34, 3)"
            ]
          },
          "metadata": {
            "tags": []
          },
          "execution_count": 31
        }
      ]
    },
    {
      "cell_type": "code",
      "metadata": {
        "id": "7Ou5JkWeMObv",
        "outputId": "2fdde850-77d7-490a-fe64-bc4fef6feb16",
        "colab": {
          "base_uri": "https://localhost:8080/",
          "height": 36
        }
      },
      "source": [
        "dataset.shape"
      ],
      "execution_count": null,
      "outputs": [
        {
          "output_type": "execute_result",
          "data": {
            "text/plain": [
              "(34, 3)"
            ]
          },
          "metadata": {
            "tags": []
          },
          "execution_count": 32
        }
      ]
    },
    {
      "cell_type": "code",
      "metadata": {
        "id": "3UDo2jiBMWsH",
        "outputId": "4c046941-fcbc-4a11-a9e0-5ee62639ef5e",
        "colab": {
          "base_uri": "https://localhost:8080/",
          "height": 672
        }
      },
      "source": [
        "#Memilih target prediksi(prediction target)\n",
        "y=data['2015']\n",
        "y\n"
      ],
      "execution_count": null,
      "outputs": [
        {
          "output_type": "execute_result",
          "data": {
            "text/plain": [
              "0     29.82\n",
              "1     29.15\n",
              "2     32.41\n",
              "3     31.21\n",
              "4     30.82\n",
              "5     33.13\n",
              "6     33.68\n",
              "7     34.12\n",
              "8     30.70\n",
              "9     29.18\n",
              "10    27.31\n",
              "11    33.82\n",
              "12    28.57\n",
              "13    24.12\n",
              "14    29.03\n",
              "15    32.95\n",
              "16    22.96\n",
              "17    31.60\n",
              "18    25.47\n",
              "19    29.35\n",
              "20    30.53\n",
              "21    25.76\n",
              "22    25.59\n",
              "23    28.61\n",
              "24    29.31\n",
              "25    32.56\n",
              "26    25.49\n",
              "27    28.49\n",
              "28    33.93\n",
              "29    28.29\n",
              "30    27.19\n",
              "31    31.14\n",
              "32    29.28\n",
              "33    26.67\n",
              "Name: 2015, dtype: float64"
            ]
          },
          "metadata": {
            "tags": []
          },
          "execution_count": 33
        }
      ]
    },
    {
      "cell_type": "code",
      "metadata": {
        "id": "eNUzDqFdMp4g",
        "outputId": "e0cc6b37-8c87-41b2-9c90-b03c0224779f",
        "colab": {
          "base_uri": "https://localhost:8080/",
          "height": 1000
        }
      },
      "source": [
        "#Memilih fitur (feature selection)\n",
        "Fitur=['Provinsi','2016']\n",
        "x=data[Fitur]\n",
        "x"
      ],
      "execution_count": null,
      "outputs": [
        {
          "output_type": "execute_result",
          "data": {
            "text/html": [
              "<div>\n",
              "<style scoped>\n",
              "    .dataframe tbody tr th:only-of-type {\n",
              "        vertical-align: middle;\n",
              "    }\n",
              "\n",
              "    .dataframe tbody tr th {\n",
              "        vertical-align: top;\n",
              "    }\n",
              "\n",
              "    .dataframe thead th {\n",
              "        text-align: right;\n",
              "    }\n",
              "</style>\n",
              "<table border=\"1\" class=\"dataframe\">\n",
              "  <thead>\n",
              "    <tr style=\"text-align: right;\">\n",
              "      <th></th>\n",
              "      <th>Provinsi</th>\n",
              "      <th>2016</th>\n",
              "    </tr>\n",
              "  </thead>\n",
              "  <tbody>\n",
              "    <tr>\n",
              "      <th>0</th>\n",
              "      <td>ACEH</td>\n",
              "      <td>28.16</td>\n",
              "    </tr>\n",
              "    <tr>\n",
              "      <th>1</th>\n",
              "      <td>SUMATERA UTARA</td>\n",
              "      <td>27.88</td>\n",
              "    </tr>\n",
              "    <tr>\n",
              "      <th>2</th>\n",
              "      <td>SUMATERA BARAT</td>\n",
              "      <td>30.59</td>\n",
              "    </tr>\n",
              "    <tr>\n",
              "      <th>3</th>\n",
              "      <td>RIAU</td>\n",
              "      <td>29.61</td>\n",
              "    </tr>\n",
              "    <tr>\n",
              "      <th>4</th>\n",
              "      <td>JAMBI</td>\n",
              "      <td>29.18</td>\n",
              "    </tr>\n",
              "    <tr>\n",
              "      <th>5</th>\n",
              "      <td>SUMATERA SELATAN</td>\n",
              "      <td>31.57</td>\n",
              "    </tr>\n",
              "    <tr>\n",
              "      <th>6</th>\n",
              "      <td>BENGKULU</td>\n",
              "      <td>33.15</td>\n",
              "    </tr>\n",
              "    <tr>\n",
              "      <th>7</th>\n",
              "      <td>LAMPUNG</td>\n",
              "      <td>33.39</td>\n",
              "    </tr>\n",
              "    <tr>\n",
              "      <th>8</th>\n",
              "      <td>KEP. BANGKA BELITUNG</td>\n",
              "      <td>29.32</td>\n",
              "    </tr>\n",
              "    <tr>\n",
              "      <th>9</th>\n",
              "      <td>KEP. RIAU</td>\n",
              "      <td>29.25</td>\n",
              "    </tr>\n",
              "    <tr>\n",
              "      <th>10</th>\n",
              "      <td>DKI JAKARTA</td>\n",
              "      <td>26.42</td>\n",
              "    </tr>\n",
              "    <tr>\n",
              "      <th>11</th>\n",
              "      <td>JAWA BARAT</td>\n",
              "      <td>32.67</td>\n",
              "    </tr>\n",
              "    <tr>\n",
              "      <th>12</th>\n",
              "      <td>JAWA TENGAH</td>\n",
              "      <td>27.19</td>\n",
              "    </tr>\n",
              "    <tr>\n",
              "      <th>13</th>\n",
              "      <td>DI YOGYAKARTA</td>\n",
              "      <td>23.11</td>\n",
              "    </tr>\n",
              "    <tr>\n",
              "      <th>14</th>\n",
              "      <td>JAWA TIMUR</td>\n",
              "      <td>28.16</td>\n",
              "    </tr>\n",
              "    <tr>\n",
              "      <th>15</th>\n",
              "      <td>BANTEN</td>\n",
              "      <td>31.64</td>\n",
              "    </tr>\n",
              "    <tr>\n",
              "      <th>16</th>\n",
              "      <td>BALI</td>\n",
              "      <td>21.62</td>\n",
              "    </tr>\n",
              "    <tr>\n",
              "      <th>17</th>\n",
              "      <td>NUSA TENGGARA BARAT</td>\n",
              "      <td>30.88</td>\n",
              "    </tr>\n",
              "    <tr>\n",
              "      <th>18</th>\n",
              "      <td>NUSA TENGGARA TIMUR</td>\n",
              "      <td>24.91</td>\n",
              "    </tr>\n",
              "    <tr>\n",
              "      <th>19</th>\n",
              "      <td>KALIMANTAN BARAT</td>\n",
              "      <td>28.09</td>\n",
              "    </tr>\n",
              "    <tr>\n",
              "      <th>20</th>\n",
              "      <td>KALIMANTAN TENGAH</td>\n",
              "      <td>29.21</td>\n",
              "    </tr>\n",
              "    <tr>\n",
              "      <th>21</th>\n",
              "      <td>KALIMANTAN SELATAN</td>\n",
              "      <td>25.34</td>\n",
              "    </tr>\n",
              "    <tr>\n",
              "      <th>22</th>\n",
              "      <td>KALIMANTAN TIMUR</td>\n",
              "      <td>25.23</td>\n",
              "    </tr>\n",
              "    <tr>\n",
              "      <th>23</th>\n",
              "      <td>KALIMANTAN UTARA</td>\n",
              "      <td>28.38</td>\n",
              "    </tr>\n",
              "    <tr>\n",
              "      <th>24</th>\n",
              "      <td>SULAWESI UTARA</td>\n",
              "      <td>29.23</td>\n",
              "    </tr>\n",
              "    <tr>\n",
              "      <th>25</th>\n",
              "      <td>SULAWESI TENGAH</td>\n",
              "      <td>31.88</td>\n",
              "    </tr>\n",
              "    <tr>\n",
              "      <th>26</th>\n",
              "      <td>SULAWESI SELATAN</td>\n",
              "      <td>25.13</td>\n",
              "    </tr>\n",
              "    <tr>\n",
              "      <th>27</th>\n",
              "      <td>SULAWESI TENGGARA</td>\n",
              "      <td>27.60</td>\n",
              "    </tr>\n",
              "    <tr>\n",
              "      <th>28</th>\n",
              "      <td>GORONTALO</td>\n",
              "      <td>31.71</td>\n",
              "    </tr>\n",
              "    <tr>\n",
              "      <th>29</th>\n",
              "      <td>SULAWESI BARAT</td>\n",
              "      <td>27.36</td>\n",
              "    </tr>\n",
              "    <tr>\n",
              "      <th>30</th>\n",
              "      <td>MALUKU</td>\n",
              "      <td>25.68</td>\n",
              "    </tr>\n",
              "    <tr>\n",
              "      <th>31</th>\n",
              "      <td>MALUKU UTARA</td>\n",
              "      <td>30.23</td>\n",
              "    </tr>\n",
              "    <tr>\n",
              "      <th>32</th>\n",
              "      <td>PAPUA BARAT</td>\n",
              "      <td>26.18</td>\n",
              "    </tr>\n",
              "    <tr>\n",
              "      <th>33</th>\n",
              "      <td>PAPUA</td>\n",
              "      <td>24.04</td>\n",
              "    </tr>\n",
              "  </tbody>\n",
              "</table>\n",
              "</div>"
            ],
            "text/plain": [
              "                Provinsi   2016\n",
              "0                   ACEH  28.16\n",
              "1         SUMATERA UTARA  27.88\n",
              "2         SUMATERA BARAT  30.59\n",
              "3                   RIAU  29.61\n",
              "4                  JAMBI  29.18\n",
              "5       SUMATERA SELATAN  31.57\n",
              "6               BENGKULU  33.15\n",
              "7                LAMPUNG  33.39\n",
              "8   KEP. BANGKA BELITUNG  29.32\n",
              "9              KEP. RIAU  29.25\n",
              "10           DKI JAKARTA  26.42\n",
              "11            JAWA BARAT  32.67\n",
              "12           JAWA TENGAH  27.19\n",
              "13         DI YOGYAKARTA  23.11\n",
              "14            JAWA TIMUR  28.16\n",
              "15                BANTEN  31.64\n",
              "16                  BALI  21.62\n",
              "17   NUSA TENGGARA BARAT  30.88\n",
              "18   NUSA TENGGARA TIMUR  24.91\n",
              "19      KALIMANTAN BARAT  28.09\n",
              "20     KALIMANTAN TENGAH  29.21\n",
              "21    KALIMANTAN SELATAN  25.34\n",
              "22      KALIMANTAN TIMUR  25.23\n",
              "23      KALIMANTAN UTARA  28.38\n",
              "24        SULAWESI UTARA  29.23\n",
              "25       SULAWESI TENGAH  31.88\n",
              "26      SULAWESI SELATAN  25.13\n",
              "27     SULAWESI TENGGARA  27.60\n",
              "28             GORONTALO  31.71\n",
              "29        SULAWESI BARAT  27.36\n",
              "30                MALUKU  25.68\n",
              "31          MALUKU UTARA  30.23\n",
              "32           PAPUA BARAT  26.18\n",
              "33                 PAPUA  24.04"
            ]
          },
          "metadata": {
            "tags": []
          },
          "execution_count": 36
        }
      ]
    }
  ]
}